{
 "cells": [
  {
   "cell_type": "code",
   "execution_count": 28,
   "metadata": {},
   "outputs": [],
   "source": [
    "from selenium import webdriver\n",
    "from selenium.webdriver.common.by import By\n",
    "import time\n",
    "import plotly.graph_objects as go\n",
    "import plotly.subplots as sp\n",
    "import plotly.express as px\n",
    "import pandas as pd\n",
    "import numpy as np\n",
    "from selenium.webdriver.support.ui import Select\n",
    "from selenium.webdriver.support.ui import WebDriverWait\n",
    "from selenium.webdriver.support import expected_conditions as EC\n",
    "from datetime import datetime\n",
    "from difflib import SequenceMatcher"
   ]
  },
  {
   "cell_type": "code",
   "execution_count": 29,
   "metadata": {},
   "outputs": [],
   "source": [
    "driver = webdriver.Chrome()\n",
    "driver.get(\"https://services.livpartner.com/ci_service/index.php\")\n",
    "driver.maximize_window()"
   ]
  },
  {
   "cell_type": "code",
   "execution_count": 30,
   "metadata": {},
   "outputs": [],
   "source": [
    "# Login Livpure Dashboard\n",
    "email_input = driver.find_element(By.ID,\"user_name\")\n",
    "email_input.send_keys(\"1210193577\")\n",
    "password_input = driver.find_element(By.ID,\"user_pass\")\n",
    "password_input.send_keys(\"Apexenterprises@128\")\n",
    "submit_button = driver.find_element(By.NAME,\"login\")\n",
    "submit_button.click()\n",
    "time.sleep(40)\n",
    "submit_button = driver.find_element(By.NAME,\"login\")\n",
    "submit_button.click()"
   ]
  },
  {
   "cell_type": "code",
   "execution_count": 31,
   "metadata": {},
   "outputs": [],
   "source": [
    "# import os\n",
    "# file_datetime = datetime.now().strftime('%d-%m-%Y_%H-%M')\n",
    "# folder_name = f\"open_cases/open_cases_{file_datetime}\"\n",
    "# if not os.path.exists(folder_name):\n",
    "#     os.makedirs(folder_name)\n"
   ]
  },
  {
   "cell_type": "code",
   "execution_count": 32,
   "metadata": {},
   "outputs": [
    {
     "ename": "NoSuchElementException",
     "evalue": "Message: no such element: Unable to locate element: {\"method\":\"xpath\",\"selector\":\"/html/body/section/section/div/div[2]/div/div[1]/label/select[@name = 'myTable_length']\"}\n  (Session info: chrome=115.0.5790.171); For documentation on this error, please visit: https://www.selenium.dev/documentation/webdriver/troubleshooting/errors#no-such-element-exception\nStacktrace:\nBacktrace:\n\tGetHandleVerifier [0x0121A813+48355]\n\t(No symbol) [0x011AC4B1]\n\t(No symbol) [0x010B5358]\n\t(No symbol) [0x010E09A5]\n\t(No symbol) [0x010E0B3B]\n\t(No symbol) [0x0110E232]\n\t(No symbol) [0x010FA784]\n\t(No symbol) [0x0110C922]\n\t(No symbol) [0x010FA536]\n\t(No symbol) [0x010D82DC]\n\t(No symbol) [0x010D93DD]\n\tGetHandleVerifier [0x0147AABD+2539405]\n\tGetHandleVerifier [0x014BA78F+2800735]\n\tGetHandleVerifier [0x014B456C+2775612]\n\tGetHandleVerifier [0x012A51E0+616112]\n\t(No symbol) [0x011B5F8C]\n\t(No symbol) [0x011B2328]\n\t(No symbol) [0x011B240B]\n\t(No symbol) [0x011A4FF7]\n\tBaseThreadInitThunk [0x76176BA9+25]\n\tRtlGetFullPathName_UEx [0x77108F9F+1215]\n\tRtlGetFullPathName_UEx [0x77108F6D+1165]\n",
     "output_type": "error",
     "traceback": [
      "\u001b[1;31m---------------------------------------------------------------------------\u001b[0m",
      "\u001b[1;31mNoSuchElementException\u001b[0m                    Traceback (most recent call last)",
      "Cell \u001b[1;32mIn[32], line 6\u001b[0m\n\u001b[0;32m      3\u001b[0m open_cases_url \u001b[39m=\u001b[39m \u001b[39m\"\u001b[39m\u001b[39mhttps://services.livpartner.com/ci_service/index.php/my_cases/pending_case?type=ro\u001b[39m\u001b[39m\"\u001b[39m\n\u001b[0;32m      4\u001b[0m driver\u001b[39m.\u001b[39mget(open_cases_url)\n\u001b[1;32m----> 6\u001b[0m dropdown \u001b[39m=\u001b[39m driver\u001b[39m.\u001b[39;49mfind_element(By\u001b[39m.\u001b[39;49mXPATH,\u001b[39m\"\u001b[39;49m\u001b[39m/html/body/section/section/div/div[2]/div/div[1]/label/select[@name = \u001b[39;49m\u001b[39m'\u001b[39;49m\u001b[39mmyTable_length\u001b[39;49m\u001b[39m'\u001b[39;49m\u001b[39m]\u001b[39;49m\u001b[39m\"\u001b[39;49m)\n\u001b[0;32m      7\u001b[0m select_object \u001b[39m=\u001b[39m Select(dropdown)\n\u001b[0;32m      8\u001b[0m select_object\u001b[39m.\u001b[39mselect_by_index(\u001b[39m3\u001b[39m)\n",
      "File \u001b[1;32mc:\\Python311\\Lib\\site-packages\\selenium\\webdriver\\remote\\webdriver.py:740\u001b[0m, in \u001b[0;36mWebDriver.find_element\u001b[1;34m(self, by, value)\u001b[0m\n\u001b[0;32m    737\u001b[0m     by \u001b[39m=\u001b[39m By\u001b[39m.\u001b[39mCSS_SELECTOR\n\u001b[0;32m    738\u001b[0m     value \u001b[39m=\u001b[39m \u001b[39mf\u001b[39m\u001b[39m'\u001b[39m\u001b[39m[name=\u001b[39m\u001b[39m\"\u001b[39m\u001b[39m{\u001b[39;00mvalue\u001b[39m}\u001b[39;00m\u001b[39m\"\u001b[39m\u001b[39m]\u001b[39m\u001b[39m'\u001b[39m\n\u001b[1;32m--> 740\u001b[0m \u001b[39mreturn\u001b[39;00m \u001b[39mself\u001b[39;49m\u001b[39m.\u001b[39;49mexecute(Command\u001b[39m.\u001b[39;49mFIND_ELEMENT, {\u001b[39m\"\u001b[39;49m\u001b[39musing\u001b[39;49m\u001b[39m\"\u001b[39;49m: by, \u001b[39m\"\u001b[39;49m\u001b[39mvalue\u001b[39;49m\u001b[39m\"\u001b[39;49m: value})[\u001b[39m\"\u001b[39m\u001b[39mvalue\u001b[39m\u001b[39m\"\u001b[39m]\n",
      "File \u001b[1;32mc:\\Python311\\Lib\\site-packages\\selenium\\webdriver\\remote\\webdriver.py:346\u001b[0m, in \u001b[0;36mWebDriver.execute\u001b[1;34m(self, driver_command, params)\u001b[0m\n\u001b[0;32m    344\u001b[0m response \u001b[39m=\u001b[39m \u001b[39mself\u001b[39m\u001b[39m.\u001b[39mcommand_executor\u001b[39m.\u001b[39mexecute(driver_command, params)\n\u001b[0;32m    345\u001b[0m \u001b[39mif\u001b[39;00m response:\n\u001b[1;32m--> 346\u001b[0m     \u001b[39mself\u001b[39;49m\u001b[39m.\u001b[39;49merror_handler\u001b[39m.\u001b[39;49mcheck_response(response)\n\u001b[0;32m    347\u001b[0m     response[\u001b[39m\"\u001b[39m\u001b[39mvalue\u001b[39m\u001b[39m\"\u001b[39m] \u001b[39m=\u001b[39m \u001b[39mself\u001b[39m\u001b[39m.\u001b[39m_unwrap_value(response\u001b[39m.\u001b[39mget(\u001b[39m\"\u001b[39m\u001b[39mvalue\u001b[39m\u001b[39m\"\u001b[39m, \u001b[39mNone\u001b[39;00m))\n\u001b[0;32m    348\u001b[0m     \u001b[39mreturn\u001b[39;00m response\n",
      "File \u001b[1;32mc:\\Python311\\Lib\\site-packages\\selenium\\webdriver\\remote\\errorhandler.py:245\u001b[0m, in \u001b[0;36mErrorHandler.check_response\u001b[1;34m(self, response)\u001b[0m\n\u001b[0;32m    243\u001b[0m         alert_text \u001b[39m=\u001b[39m value[\u001b[39m\"\u001b[39m\u001b[39malert\u001b[39m\u001b[39m\"\u001b[39m]\u001b[39m.\u001b[39mget(\u001b[39m\"\u001b[39m\u001b[39mtext\u001b[39m\u001b[39m\"\u001b[39m)\n\u001b[0;32m    244\u001b[0m     \u001b[39mraise\u001b[39;00m exception_class(message, screen, stacktrace, alert_text)  \u001b[39m# type: ignore[call-arg]  # mypy is not smart enough here\u001b[39;00m\n\u001b[1;32m--> 245\u001b[0m \u001b[39mraise\u001b[39;00m exception_class(message, screen, stacktrace)\n",
      "\u001b[1;31mNoSuchElementException\u001b[0m: Message: no such element: Unable to locate element: {\"method\":\"xpath\",\"selector\":\"/html/body/section/section/div/div[2]/div/div[1]/label/select[@name = 'myTable_length']\"}\n  (Session info: chrome=115.0.5790.171); For documentation on this error, please visit: https://www.selenium.dev/documentation/webdriver/troubleshooting/errors#no-such-element-exception\nStacktrace:\nBacktrace:\n\tGetHandleVerifier [0x0121A813+48355]\n\t(No symbol) [0x011AC4B1]\n\t(No symbol) [0x010B5358]\n\t(No symbol) [0x010E09A5]\n\t(No symbol) [0x010E0B3B]\n\t(No symbol) [0x0110E232]\n\t(No symbol) [0x010FA784]\n\t(No symbol) [0x0110C922]\n\t(No symbol) [0x010FA536]\n\t(No symbol) [0x010D82DC]\n\t(No symbol) [0x010D93DD]\n\tGetHandleVerifier [0x0147AABD+2539405]\n\tGetHandleVerifier [0x014BA78F+2800735]\n\tGetHandleVerifier [0x014B456C+2775612]\n\tGetHandleVerifier [0x012A51E0+616112]\n\t(No symbol) [0x011B5F8C]\n\t(No symbol) [0x011B2328]\n\t(No symbol) [0x011B240B]\n\t(No symbol) [0x011A4FF7]\n\tBaseThreadInitThunk [0x76176BA9+25]\n\tRtlGetFullPathName_UEx [0x77108F9F+1215]\n\tRtlGetFullPathName_UEx [0x77108F6D+1165]\n"
     ]
    }
   ],
   "source": [
    "# Data Scraping\n",
    "open_cases_url = \"https://services.livpartner.com/ci_service/index.php/Case_assign?type=ro\"\n",
    "# open_cases_url = \"https://services.livpartner.com/ci_service/index.php/my_cases/pending_case?type=ro\"\n",
    "driver.get(open_cases_url)\n",
    "\n",
    "dropdown = driver.find_element(By.XPATH,\"/html/body/section/section/div/div[2]/div/div[1]/label/select[@name = 'myTable_length']\")\n",
    "select_object = Select(dropdown)\n",
    "select_object.select_by_index(3)\n",
    "\n",
    "last_page_xpath = '/html/body/section/section/div/div[2]/div/div[4]/span/a[last()]'\n",
    "last_page = driver.find_element(By.XPATH, last_page_xpath).text\n",
    "next_button_id = 'myTable_next'\n",
    "file_datetime = datetime.now().strftime('%d-%m-%Y_%H-%M')\n",
    "table_data_list = []\n",
    "count = 0\n",
    "\n",
    "while count < int(last_page):\n",
    "  \n",
    "  table_data = WebDriverWait(driver, 10).until(EC.presence_of_element_located((By.ID, \"myTable\")))\n",
    "  table_html = table_data.get_attribute('outerHTML')\n",
    "  df_list = pd.read_html(table_html)\n",
    "  table_data_list.append(df_list[0])\n",
    "  driver.execute_script(\"window.scrollTo(0, document.body.scrollHeight);\")\n",
    "  time.sleep(4)\n",
    "  next_button = WebDriverWait(driver, 10).until(EC.presence_of_element_located((By.ID, next_button_id)))\n",
    "  next_button.click()\n",
    "  time.sleep(5)\n",
    "  count = count + 1\n",
    "\n",
    "final_df = pd.concat(table_data_list, ignore_index=True)\n",
    "excel_file_path = f\"open_cases_{file_datetime}.xlsx\"\n",
    "final_df[\"Cust Address\"] = final_df[\"Cust Address\"].tolist()\n"
   ]
  },
  {
   "cell_type": "code",
   "execution_count": null,
   "metadata": {},
   "outputs": [],
   "source": [
    "area_list = pd.read_excel(\"area_list.xlsx\")\n",
    "area_list = area_list['area_list'].tolist()"
   ]
  },
  {
   "cell_type": "code",
   "execution_count": null,
   "metadata": {},
   "outputs": [],
   "source": [
    "def find_matching_job_areas(address):\n",
    "    matching_areas = []\n",
    "    address_words = set(address.lower().split())\n",
    "    \n",
    "    for area in area_list:\n",
    "        area_words = set(area.lower().split())\n",
    "        common_words = address_words.intersection(area_words)\n",
    "        similarity_ratio = len(common_words) / len(area_words)\n",
    "        \n",
    "        if similarity_ratio >= 0.6:\n",
    "            matching_areas.append(area)\n",
    "    \n",
    "    return matching_areas if matching_areas else [\"Not Found\"]\n",
    "\n",
    "# Apply the function to create a new column 'area_list_match'\n",
    "final_df[\"job_area_match\"] = final_df[\"Cust Address\"].apply(find_matching_job_areas)\n",
    "final_df.to_excel(excel_file_path, index=False)\n"
   ]
  },
  {
   "cell_type": "code",
   "execution_count": null,
   "metadata": {},
   "outputs": [
    {
     "data": {
      "application/vnd.plotly.v1+json": {
       "config": {
        "plotlyServerURL": "https://plot.ly"
       },
       "data": [
        {
         "alignmentgroup": "True",
         "hovertemplate": "Case Type=PM_Call<br>Product Model No=%{x}<br>value=%{y}<extra></extra>",
         "legendgroup": "PM_Call",
         "marker": {
          "color": "green",
          "pattern": {
           "shape": ""
          }
         },
         "name": "PM_Call",
         "offsetgroup": "PM_Call",
         "orientation": "v",
         "showlegend": true,
         "textposition": "auto",
         "type": "bar",
         "x": [
          "LIV-BOLT+COPPER(RO+UF+MIN)",
          "LIV-BOLT+COPPER(RO+UV+MIN)",
          "LIV-BOLT-COPPER",
          "LIV-BOLT-WAAS-W",
          "LIV-ECO-TOUCH",
          "LIV-ENVY",
          "LIV-ENVY(BLUE)",
          "LIV-ENVY(GREY)",
          "LIV-ENVY+(GREY)",
          "LIV-ENVY+(RED)",
          "LIV-ENVY-(RO+UV+UF+TE)",
          "LIV-GLITZ",
          "LIV-GLITZ-PLUS",
          "LIV-GLITZ-SILVER",
          "LIV-GLO",
          "LIV-GLO-LITE",
          "LIV-GLO-PRO++",
          "LIV-GLO-UV",
          "LIV-IRO(25LPH)",
          "LIV-LINEA",
          "LIV-LINEA-COPPER",
          "LIV-PEP",
          "LIV-PEP+",
          "LIV-PEP+-FS",
          "LIV-PEP-PRO-GRAND",
          "LIV-PEP-PRO-GRAND-COPPER",
          "LIV-PEP-PRO-PLUS+",
          "LIV-PEP-PRO-STAR",
          "LIV-PEP-STAR",
          "LIV-PLATINO-COPPER",
          "LIV-PLATINO-PLUS-COPPER",
          "LIV-PLATINO-PLUS-COPPER2000",
          "LIV-SMART-TOUCH",
          "LIV-TOUCH",
          "LIV-TOUCH+",
          "LIV-TOUCH-2000",
          "LIV-TOUCH-2000+",
          "LIV-TOUCH-ALKALINE",
          "LIV-UTC-NEON-RO+UV",
          "LIV-UTS-NEW",
          "LIV-ZINGER-COPPER(WHITE)",
          "LIV-ZINGER-COPPER(WHITE)2K",
          "LIV-ZINGER-HR",
          "LIV-ZINGER-SMART(HR70)",
          "LIVPURE-BOLT+COPPER-dx(RO+UF+MIN)",
          "Liv-Glitz-dx",
          "OTHER-IRO(25LPH)+RO",
          "OTHER-MODEL-1+RO"
         ],
         "xaxis": "x",
         "y": [
          9,
          9,
          6,
          0,
          2,
          1,
          1,
          1,
          1,
          1,
          1,
          2,
          6,
          6,
          6,
          2,
          5,
          1,
          1,
          1,
          1,
          1,
          2,
          4,
          5,
          4,
          9,
          3,
          6,
          1,
          2,
          3,
          3,
          2,
          16,
          1,
          7,
          1,
          1,
          1,
          1,
          2,
          1,
          1,
          1,
          1,
          1,
          1
         ],
         "yaxis": "y"
        },
        {
         "alignmentgroup": "True",
         "hovertemplate": "Case Type=Re_Install_Req<br>Product Model No=%{x}<br>value=%{y}<extra></extra>",
         "legendgroup": "Re_Install_Req",
         "marker": {
          "color": "#ab63fa",
          "pattern": {
           "shape": ""
          }
         },
         "name": "Re_Install_Req",
         "offsetgroup": "Re_Install_Req",
         "orientation": "v",
         "showlegend": true,
         "textposition": "auto",
         "type": "bar",
         "x": [
          "LIV-BOLT+COPPER(RO+UF+MIN)",
          "LIV-BOLT+COPPER(RO+UV+MIN)",
          "LIV-BOLT-COPPER",
          "LIV-BOLT-WAAS-W",
          "LIV-ECO-TOUCH",
          "LIV-ENVY",
          "LIV-ENVY(BLUE)",
          "LIV-ENVY(GREY)",
          "LIV-ENVY+(GREY)",
          "LIV-ENVY+(RED)",
          "LIV-ENVY-(RO+UV+UF+TE)",
          "LIV-GLITZ",
          "LIV-GLITZ-PLUS",
          "LIV-GLITZ-SILVER",
          "LIV-GLO",
          "LIV-GLO-LITE",
          "LIV-GLO-PRO++",
          "LIV-GLO-UV",
          "LIV-IRO(25LPH)",
          "LIV-LINEA",
          "LIV-LINEA-COPPER",
          "LIV-PEP",
          "LIV-PEP+",
          "LIV-PEP+-FS",
          "LIV-PEP-PRO-GRAND",
          "LIV-PEP-PRO-GRAND-COPPER",
          "LIV-PEP-PRO-PLUS+",
          "LIV-PEP-PRO-STAR",
          "LIV-PEP-STAR",
          "LIV-PLATINO-COPPER",
          "LIV-PLATINO-PLUS-COPPER",
          "LIV-PLATINO-PLUS-COPPER2000",
          "LIV-SMART-TOUCH",
          "LIV-TOUCH",
          "LIV-TOUCH+",
          "LIV-TOUCH-2000",
          "LIV-TOUCH-2000+",
          "LIV-TOUCH-ALKALINE",
          "LIV-UTC-NEON-RO+UV",
          "LIV-UTS-NEW",
          "LIV-ZINGER-COPPER(WHITE)",
          "LIV-ZINGER-COPPER(WHITE)2K",
          "LIV-ZINGER-HR",
          "LIV-ZINGER-SMART(HR70)",
          "LIVPURE-BOLT+COPPER-dx(RO+UF+MIN)",
          "Liv-Glitz-dx",
          "OTHER-IRO(25LPH)+RO",
          "OTHER-MODEL-1+RO"
         ],
         "xaxis": "x",
         "y": [
          0,
          0,
          0,
          1,
          0,
          0,
          0,
          0,
          0,
          0,
          0,
          0,
          0,
          0,
          0,
          0,
          0,
          0,
          0,
          0,
          0,
          0,
          0,
          0,
          0,
          0,
          0,
          0,
          1,
          0,
          0,
          0,
          0,
          0,
          0,
          0,
          0,
          0,
          0,
          0,
          0,
          0,
          0,
          0,
          0,
          0,
          0,
          0
         ],
         "yaxis": "y"
        },
        {
         "alignmentgroup": "True",
         "hovertemplate": "Case Type=Service_Complaint<br>Product Model No=%{x}<br>value=%{y}<extra></extra>",
         "legendgroup": "Service_Complaint",
         "marker": {
          "color": "blue",
          "pattern": {
           "shape": ""
          }
         },
         "name": "Service_Complaint",
         "offsetgroup": "Service_Complaint",
         "orientation": "v",
         "showlegend": true,
         "textposition": "auto",
         "type": "bar",
         "x": [
          "LIV-BOLT+COPPER(RO+UF+MIN)",
          "LIV-BOLT+COPPER(RO+UV+MIN)",
          "LIV-BOLT-COPPER",
          "LIV-BOLT-WAAS-W",
          "LIV-ECO-TOUCH",
          "LIV-ENVY",
          "LIV-ENVY(BLUE)",
          "LIV-ENVY(GREY)",
          "LIV-ENVY+(GREY)",
          "LIV-ENVY+(RED)",
          "LIV-ENVY-(RO+UV+UF+TE)",
          "LIV-GLITZ",
          "LIV-GLITZ-PLUS",
          "LIV-GLITZ-SILVER",
          "LIV-GLO",
          "LIV-GLO-LITE",
          "LIV-GLO-PRO++",
          "LIV-GLO-UV",
          "LIV-IRO(25LPH)",
          "LIV-LINEA",
          "LIV-LINEA-COPPER",
          "LIV-PEP",
          "LIV-PEP+",
          "LIV-PEP+-FS",
          "LIV-PEP-PRO-GRAND",
          "LIV-PEP-PRO-GRAND-COPPER",
          "LIV-PEP-PRO-PLUS+",
          "LIV-PEP-PRO-STAR",
          "LIV-PEP-STAR",
          "LIV-PLATINO-COPPER",
          "LIV-PLATINO-PLUS-COPPER",
          "LIV-PLATINO-PLUS-COPPER2000",
          "LIV-SMART-TOUCH",
          "LIV-TOUCH",
          "LIV-TOUCH+",
          "LIV-TOUCH-2000",
          "LIV-TOUCH-2000+",
          "LIV-TOUCH-ALKALINE",
          "LIV-UTC-NEON-RO+UV",
          "LIV-UTS-NEW",
          "LIV-ZINGER-COPPER(WHITE)",
          "LIV-ZINGER-COPPER(WHITE)2K",
          "LIV-ZINGER-HR",
          "LIV-ZINGER-SMART(HR70)",
          "LIVPURE-BOLT+COPPER-dx(RO+UF+MIN)",
          "Liv-Glitz-dx",
          "OTHER-IRO(25LPH)+RO",
          "OTHER-MODEL-1+RO"
         ],
         "xaxis": "x",
         "y": [
          0,
          1,
          0,
          0,
          0,
          0,
          0,
          0,
          0,
          0,
          0,
          0,
          0,
          0,
          0,
          0,
          0,
          0,
          0,
          0,
          0,
          0,
          0,
          0,
          0,
          0,
          0,
          0,
          0,
          0,
          0,
          0,
          0,
          0,
          0,
          0,
          1,
          0,
          0,
          0,
          0,
          0,
          0,
          0,
          0,
          0,
          0,
          0
         ],
         "yaxis": "y"
        }
       ],
       "layout": {
        "barmode": "stack",
        "legend": {
         "title": {
          "text": "Case Type"
         },
         "tracegroupgap": 0
        },
        "template": {
         "data": {
          "bar": [
           {
            "error_x": {
             "color": "#2a3f5f"
            },
            "error_y": {
             "color": "#2a3f5f"
            },
            "marker": {
             "line": {
              "color": "#E5ECF6",
              "width": 0.5
             },
             "pattern": {
              "fillmode": "overlay",
              "size": 10,
              "solidity": 0.2
             }
            },
            "type": "bar"
           }
          ],
          "barpolar": [
           {
            "marker": {
             "line": {
              "color": "#E5ECF6",
              "width": 0.5
             },
             "pattern": {
              "fillmode": "overlay",
              "size": 10,
              "solidity": 0.2
             }
            },
            "type": "barpolar"
           }
          ],
          "carpet": [
           {
            "aaxis": {
             "endlinecolor": "#2a3f5f",
             "gridcolor": "white",
             "linecolor": "white",
             "minorgridcolor": "white",
             "startlinecolor": "#2a3f5f"
            },
            "baxis": {
             "endlinecolor": "#2a3f5f",
             "gridcolor": "white",
             "linecolor": "white",
             "minorgridcolor": "white",
             "startlinecolor": "#2a3f5f"
            },
            "type": "carpet"
           }
          ],
          "choropleth": [
           {
            "colorbar": {
             "outlinewidth": 0,
             "ticks": ""
            },
            "type": "choropleth"
           }
          ],
          "contour": [
           {
            "colorbar": {
             "outlinewidth": 0,
             "ticks": ""
            },
            "colorscale": [
             [
              0,
              "#0d0887"
             ],
             [
              0.1111111111111111,
              "#46039f"
             ],
             [
              0.2222222222222222,
              "#7201a8"
             ],
             [
              0.3333333333333333,
              "#9c179e"
             ],
             [
              0.4444444444444444,
              "#bd3786"
             ],
             [
              0.5555555555555556,
              "#d8576b"
             ],
             [
              0.6666666666666666,
              "#ed7953"
             ],
             [
              0.7777777777777778,
              "#fb9f3a"
             ],
             [
              0.8888888888888888,
              "#fdca26"
             ],
             [
              1,
              "#f0f921"
             ]
            ],
            "type": "contour"
           }
          ],
          "contourcarpet": [
           {
            "colorbar": {
             "outlinewidth": 0,
             "ticks": ""
            },
            "type": "contourcarpet"
           }
          ],
          "heatmap": [
           {
            "colorbar": {
             "outlinewidth": 0,
             "ticks": ""
            },
            "colorscale": [
             [
              0,
              "#0d0887"
             ],
             [
              0.1111111111111111,
              "#46039f"
             ],
             [
              0.2222222222222222,
              "#7201a8"
             ],
             [
              0.3333333333333333,
              "#9c179e"
             ],
             [
              0.4444444444444444,
              "#bd3786"
             ],
             [
              0.5555555555555556,
              "#d8576b"
             ],
             [
              0.6666666666666666,
              "#ed7953"
             ],
             [
              0.7777777777777778,
              "#fb9f3a"
             ],
             [
              0.8888888888888888,
              "#fdca26"
             ],
             [
              1,
              "#f0f921"
             ]
            ],
            "type": "heatmap"
           }
          ],
          "heatmapgl": [
           {
            "colorbar": {
             "outlinewidth": 0,
             "ticks": ""
            },
            "colorscale": [
             [
              0,
              "#0d0887"
             ],
             [
              0.1111111111111111,
              "#46039f"
             ],
             [
              0.2222222222222222,
              "#7201a8"
             ],
             [
              0.3333333333333333,
              "#9c179e"
             ],
             [
              0.4444444444444444,
              "#bd3786"
             ],
             [
              0.5555555555555556,
              "#d8576b"
             ],
             [
              0.6666666666666666,
              "#ed7953"
             ],
             [
              0.7777777777777778,
              "#fb9f3a"
             ],
             [
              0.8888888888888888,
              "#fdca26"
             ],
             [
              1,
              "#f0f921"
             ]
            ],
            "type": "heatmapgl"
           }
          ],
          "histogram": [
           {
            "marker": {
             "pattern": {
              "fillmode": "overlay",
              "size": 10,
              "solidity": 0.2
             }
            },
            "type": "histogram"
           }
          ],
          "histogram2d": [
           {
            "colorbar": {
             "outlinewidth": 0,
             "ticks": ""
            },
            "colorscale": [
             [
              0,
              "#0d0887"
             ],
             [
              0.1111111111111111,
              "#46039f"
             ],
             [
              0.2222222222222222,
              "#7201a8"
             ],
             [
              0.3333333333333333,
              "#9c179e"
             ],
             [
              0.4444444444444444,
              "#bd3786"
             ],
             [
              0.5555555555555556,
              "#d8576b"
             ],
             [
              0.6666666666666666,
              "#ed7953"
             ],
             [
              0.7777777777777778,
              "#fb9f3a"
             ],
             [
              0.8888888888888888,
              "#fdca26"
             ],
             [
              1,
              "#f0f921"
             ]
            ],
            "type": "histogram2d"
           }
          ],
          "histogram2dcontour": [
           {
            "colorbar": {
             "outlinewidth": 0,
             "ticks": ""
            },
            "colorscale": [
             [
              0,
              "#0d0887"
             ],
             [
              0.1111111111111111,
              "#46039f"
             ],
             [
              0.2222222222222222,
              "#7201a8"
             ],
             [
              0.3333333333333333,
              "#9c179e"
             ],
             [
              0.4444444444444444,
              "#bd3786"
             ],
             [
              0.5555555555555556,
              "#d8576b"
             ],
             [
              0.6666666666666666,
              "#ed7953"
             ],
             [
              0.7777777777777778,
              "#fb9f3a"
             ],
             [
              0.8888888888888888,
              "#fdca26"
             ],
             [
              1,
              "#f0f921"
             ]
            ],
            "type": "histogram2dcontour"
           }
          ],
          "mesh3d": [
           {
            "colorbar": {
             "outlinewidth": 0,
             "ticks": ""
            },
            "type": "mesh3d"
           }
          ],
          "parcoords": [
           {
            "line": {
             "colorbar": {
              "outlinewidth": 0,
              "ticks": ""
             }
            },
            "type": "parcoords"
           }
          ],
          "pie": [
           {
            "automargin": true,
            "type": "pie"
           }
          ],
          "scatter": [
           {
            "fillpattern": {
             "fillmode": "overlay",
             "size": 10,
             "solidity": 0.2
            },
            "type": "scatter"
           }
          ],
          "scatter3d": [
           {
            "line": {
             "colorbar": {
              "outlinewidth": 0,
              "ticks": ""
             }
            },
            "marker": {
             "colorbar": {
              "outlinewidth": 0,
              "ticks": ""
             }
            },
            "type": "scatter3d"
           }
          ],
          "scattercarpet": [
           {
            "marker": {
             "colorbar": {
              "outlinewidth": 0,
              "ticks": ""
             }
            },
            "type": "scattercarpet"
           }
          ],
          "scattergeo": [
           {
            "marker": {
             "colorbar": {
              "outlinewidth": 0,
              "ticks": ""
             }
            },
            "type": "scattergeo"
           }
          ],
          "scattergl": [
           {
            "marker": {
             "colorbar": {
              "outlinewidth": 0,
              "ticks": ""
             }
            },
            "type": "scattergl"
           }
          ],
          "scattermapbox": [
           {
            "marker": {
             "colorbar": {
              "outlinewidth": 0,
              "ticks": ""
             }
            },
            "type": "scattermapbox"
           }
          ],
          "scatterpolar": [
           {
            "marker": {
             "colorbar": {
              "outlinewidth": 0,
              "ticks": ""
             }
            },
            "type": "scatterpolar"
           }
          ],
          "scatterpolargl": [
           {
            "marker": {
             "colorbar": {
              "outlinewidth": 0,
              "ticks": ""
             }
            },
            "type": "scatterpolargl"
           }
          ],
          "scatterternary": [
           {
            "marker": {
             "colorbar": {
              "outlinewidth": 0,
              "ticks": ""
             }
            },
            "type": "scatterternary"
           }
          ],
          "surface": [
           {
            "colorbar": {
             "outlinewidth": 0,
             "ticks": ""
            },
            "colorscale": [
             [
              0,
              "#0d0887"
             ],
             [
              0.1111111111111111,
              "#46039f"
             ],
             [
              0.2222222222222222,
              "#7201a8"
             ],
             [
              0.3333333333333333,
              "#9c179e"
             ],
             [
              0.4444444444444444,
              "#bd3786"
             ],
             [
              0.5555555555555556,
              "#d8576b"
             ],
             [
              0.6666666666666666,
              "#ed7953"
             ],
             [
              0.7777777777777778,
              "#fb9f3a"
             ],
             [
              0.8888888888888888,
              "#fdca26"
             ],
             [
              1,
              "#f0f921"
             ]
            ],
            "type": "surface"
           }
          ],
          "table": [
           {
            "cells": {
             "fill": {
              "color": "#EBF0F8"
             },
             "line": {
              "color": "white"
             }
            },
            "header": {
             "fill": {
              "color": "#C8D4E3"
             },
             "line": {
              "color": "white"
             }
            },
            "type": "table"
           }
          ]
         },
         "layout": {
          "annotationdefaults": {
           "arrowcolor": "#2a3f5f",
           "arrowhead": 0,
           "arrowwidth": 1
          },
          "autotypenumbers": "strict",
          "coloraxis": {
           "colorbar": {
            "outlinewidth": 0,
            "ticks": ""
           }
          },
          "colorscale": {
           "diverging": [
            [
             0,
             "#8e0152"
            ],
            [
             0.1,
             "#c51b7d"
            ],
            [
             0.2,
             "#de77ae"
            ],
            [
             0.3,
             "#f1b6da"
            ],
            [
             0.4,
             "#fde0ef"
            ],
            [
             0.5,
             "#f7f7f7"
            ],
            [
             0.6,
             "#e6f5d0"
            ],
            [
             0.7,
             "#b8e186"
            ],
            [
             0.8,
             "#7fbc41"
            ],
            [
             0.9,
             "#4d9221"
            ],
            [
             1,
             "#276419"
            ]
           ],
           "sequential": [
            [
             0,
             "#0d0887"
            ],
            [
             0.1111111111111111,
             "#46039f"
            ],
            [
             0.2222222222222222,
             "#7201a8"
            ],
            [
             0.3333333333333333,
             "#9c179e"
            ],
            [
             0.4444444444444444,
             "#bd3786"
            ],
            [
             0.5555555555555556,
             "#d8576b"
            ],
            [
             0.6666666666666666,
             "#ed7953"
            ],
            [
             0.7777777777777778,
             "#fb9f3a"
            ],
            [
             0.8888888888888888,
             "#fdca26"
            ],
            [
             1,
             "#f0f921"
            ]
           ],
           "sequentialminus": [
            [
             0,
             "#0d0887"
            ],
            [
             0.1111111111111111,
             "#46039f"
            ],
            [
             0.2222222222222222,
             "#7201a8"
            ],
            [
             0.3333333333333333,
             "#9c179e"
            ],
            [
             0.4444444444444444,
             "#bd3786"
            ],
            [
             0.5555555555555556,
             "#d8576b"
            ],
            [
             0.6666666666666666,
             "#ed7953"
            ],
            [
             0.7777777777777778,
             "#fb9f3a"
            ],
            [
             0.8888888888888888,
             "#fdca26"
            ],
            [
             1,
             "#f0f921"
            ]
           ]
          },
          "colorway": [
           "#636efa",
           "#EF553B",
           "#00cc96",
           "#ab63fa",
           "#FFA15A",
           "#19d3f3",
           "#FF6692",
           "#B6E880",
           "#FF97FF",
           "#FECB52"
          ],
          "font": {
           "color": "#2a3f5f"
          },
          "geo": {
           "bgcolor": "white",
           "lakecolor": "white",
           "landcolor": "#E5ECF6",
           "showlakes": true,
           "showland": true,
           "subunitcolor": "white"
          },
          "hoverlabel": {
           "align": "left"
          },
          "hovermode": "closest",
          "mapbox": {
           "style": "light"
          },
          "paper_bgcolor": "white",
          "plot_bgcolor": "#E5ECF6",
          "polar": {
           "angularaxis": {
            "gridcolor": "white",
            "linecolor": "white",
            "ticks": ""
           },
           "bgcolor": "#E5ECF6",
           "radialaxis": {
            "gridcolor": "white",
            "linecolor": "white",
            "ticks": ""
           }
          },
          "scene": {
           "xaxis": {
            "backgroundcolor": "#E5ECF6",
            "gridcolor": "white",
            "gridwidth": 2,
            "linecolor": "white",
            "showbackground": true,
            "ticks": "",
            "zerolinecolor": "white"
           },
           "yaxis": {
            "backgroundcolor": "#E5ECF6",
            "gridcolor": "white",
            "gridwidth": 2,
            "linecolor": "white",
            "showbackground": true,
            "ticks": "",
            "zerolinecolor": "white"
           },
           "zaxis": {
            "backgroundcolor": "#E5ECF6",
            "gridcolor": "white",
            "gridwidth": 2,
            "linecolor": "white",
            "showbackground": true,
            "ticks": "",
            "zerolinecolor": "white"
           }
          },
          "shapedefaults": {
           "line": {
            "color": "#2a3f5f"
           }
          },
          "ternary": {
           "aaxis": {
            "gridcolor": "white",
            "linecolor": "white",
            "ticks": ""
           },
           "baxis": {
            "gridcolor": "white",
            "linecolor": "white",
            "ticks": ""
           },
           "bgcolor": "#E5ECF6",
           "caxis": {
            "gridcolor": "white",
            "linecolor": "white",
            "ticks": ""
           }
          },
          "title": {
           "x": 0.05
          },
          "xaxis": {
           "automargin": true,
           "gridcolor": "white",
           "linecolor": "white",
           "ticks": "",
           "title": {
            "standoff": 15
           },
           "zerolinecolor": "white",
           "zerolinewidth": 2
          },
          "yaxis": {
           "automargin": true,
           "gridcolor": "white",
           "linecolor": "white",
           "ticks": "",
           "title": {
            "standoff": 15
           },
           "zerolinecolor": "white",
           "zerolinewidth": 2
          }
         }
        },
        "title": {
         "text": "Open Cases Count of Model and Job"
        },
        "xaxis": {
         "anchor": "y",
         "domain": [
          0,
          1
         ],
         "title": {
          "text": "Product Model No"
         }
        },
        "yaxis": {
         "anchor": "x",
         "domain": [
          0,
          1
         ],
         "title": {
          "text": "value"
         }
        }
       }
      }
     },
     "metadata": {},
     "output_type": "display_data"
    }
   ],
   "source": [
    "\n",
    "df =  pd.read_excel(excel_file_path)\n",
    "model_value_counts = df['Product Model No'].value_counts()\n",
    "model_name = df['Product Model No'].unique()\n",
    "df.loc[df['Case Type'].str.startswith('PM_Call'), 'Case Type'] = 'PM_Call'\n",
    "case_count = df['Case Type'].unique()\n",
    "# Create a Pivot Table to get the data in the right format for the stacked bar chart\n",
    "model_job_pivot = df.pivot_table(index=df['Product Model No'], columns=df['Case Type'], aggfunc='size', fill_value=0)\n",
    "# Create the stacked bar chart using Plotly Express\n",
    "fig1 = px.bar(model_job_pivot, x=model_job_pivot.index, y=model_job_pivot.columns, title='Open Cases Count of Model and Job', \n",
    "              labels={'x': 'model_name', 'y': 'Count', 'color': df['Case Type']}, barmode='stack', \n",
    "              color_discrete_map={'PM_Call': 'green', 'Install_Req': 'brown', 'Service_Complaint': 'blue'}\n",
    "              )\n",
    "fig1.show()\n",
    "# fig1 = px.bar(x=model_name, y=model_value_counts, labels={'Product Model No': 'Unique Values', 'y': 'Count'})\n",
    "# fig2 = px.bar(x=model_name, y=case_count, labels={'Product Model No': 'Unique Values', 'y': 'Count'})\n",
    "# fig = sp.make_subplots(rows=1, cols=1, subplot_titles=(\"Open_Cases\"))\n",
    "# fig.add_trace(fig1.data[*], row=1, col=1)\n",
    "# fig.add_trace(fig2.data[0], row=2, col=1)\n",
    "# print(model_name,model_value_counts,case_count )"
   ]
  },
  {
   "cell_type": "code",
   "execution_count": null,
   "metadata": {},
   "outputs": [],
   "source": [
    "from datetime import datetime\n",
    "df['Case Create Date'] = pd.to_datetime(df['Case Create Date'])\n",
    "current_datetime = datetime.now()\n",
    "time_difference = current_datetime - df['Case Create Date']\n",
    "df['time_from_now'] = time_difference.dt.days.astype(str) + \" days \" + (time_difference.dt.seconds // 3600).astype(str) + \" hours\"\n",
    "excel_file_path_aging = f\"open_aging_{file_datetime}.xlsx\"\n",
    "df.to_excel(excel_file_path_aging, index=False)"
   ]
  },
  {
   "cell_type": "code",
   "execution_count": null,
   "metadata": {},
   "outputs": [],
   "source": [
    "service_complaint_df = df[df['Case Type'] == 'Service_Complaint'].copy()\n",
    "service_complaint_df.sort_values(by='time_from_now', ascending=False, inplace=True)\n",
    "excel_file_path_complaints = f\"open_cases_complaints_{file_datetime}.xlsx\"\n",
    "service_complaint_df.to_excel(excel_file_path_complaints, index=False)"
   ]
  },
  {
   "cell_type": "code",
   "execution_count": null,
   "metadata": {},
   "outputs": [],
   "source": [
    "Install_Req_df = df[df['Case Type'] == 'Install_Req'].copy()\n",
    "Install_Req_df.sort_values(by='time_from_now', ascending=False, inplace=True)\n",
    "excel_file_path_installation = f\"open_cases_installation_{file_datetime}.xlsx\"\n",
    "Install_Req_df.to_excel(excel_file_path_installation, index=False)"
   ]
  },
  {
   "cell_type": "code",
   "execution_count": null,
   "metadata": {},
   "outputs": [],
   "source": [
    "PM_Call_df = df[df['Case Type'] == 'PM_Call'].copy()\n",
    "PM_Call_df.sort_values(by='time_from_now', ascending=False, inplace=True)\n",
    "PM_Call_df['time_from_now'] = pd.to_timedelta(PM_Call_df['time_from_now'])\n",
    "filtered_df = PM_Call_df[PM_Call_df['time_from_now'] < pd.Timedelta(days=6)]\n",
    "excel_file_path_pm = f\"open_cases_pm_6days_{file_datetime}.xlsx\"\n",
    "filtered_df.to_excel(excel_file_path_pm, index=False)"
   ]
  }
 ],
 "metadata": {
  "kernelspec": {
   "display_name": "Python 3",
   "language": "python",
   "name": "python3"
  },
  "language_info": {
   "codemirror_mode": {
    "name": "ipython",
    "version": 3
   },
   "file_extension": ".py",
   "mimetype": "text/x-python",
   "name": "python",
   "nbconvert_exporter": "python",
   "pygments_lexer": "ipython3",
   "version": "3.11.2"
  },
  "orig_nbformat": 4
 },
 "nbformat": 4,
 "nbformat_minor": 2
}
